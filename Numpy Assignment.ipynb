{
 "cells": [
  {
   "cell_type": "markdown",
   "metadata": {},
   "source": [
    "Write a function so that the columns of the output matrix are powers of the input\n",
    "vector.\n",
    "The order of the powers is determined by the increasing boolean argument. Specifically, when\n",
    "increasing is False, the i-th output column is the input vector raised element-wise to the power\n",
    "of N - i - 1.\n",
    "\n",
    "HINT: Such a matrix with a geometric progression in each row is named for Alexandre-\n",
    "Theophile Vandermonde."
   ]
  },
  {
   "cell_type": "code",
   "execution_count": 1,
   "metadata": {},
   "outputs": [],
   "source": [
    "import numpy as np\n",
    "import pandas as pd\n"
   ]
  },
  {
   "cell_type": "code",
   "execution_count": 2,
   "metadata": {},
   "outputs": [],
   "source": [
    "def ATV(matrix,n,increase):\n",
    "    if increase:\n",
    "        matrix1=([s**i for s in matrix for i in range (n)])\n",
    "    else:\n",
    "        matrix1=([s**(n-1-i) for s in matrix for i in range (n)])\n",
    "    return np.matrix(matrix1).reshape(len(matrix),n)\n",
    "        "
   ]
  },
  {
   "cell_type": "code",
   "execution_count": 3,
   "metadata": {},
   "outputs": [],
   "source": [
    "x=np.array([1,2,3,4])"
   ]
  },
  {
   "cell_type": "code",
   "execution_count": 4,
   "metadata": {},
   "outputs": [
    {
     "data": {
      "text/plain": [
       "array([1, 2, 3, 4])"
      ]
     },
     "execution_count": 4,
     "metadata": {},
     "output_type": "execute_result"
    }
   ],
   "source": [
    "x"
   ]
  },
  {
   "cell_type": "code",
   "execution_count": 5,
   "metadata": {},
   "outputs": [
    {
     "data": {
      "text/plain": [
       "matrix([[ 1,  1,  1,  1],\n",
       "        [ 1,  2,  4,  8],\n",
       "        [ 1,  3,  9, 27],\n",
       "        [ 1,  4, 16, 64]])"
      ]
     },
     "execution_count": 5,
     "metadata": {},
     "output_type": "execute_result"
    }
   ],
   "source": [
    "ATV(x,4,True)"
   ]
  },
  {
   "cell_type": "code",
   "execution_count": 6,
   "metadata": {},
   "outputs": [
    {
     "data": {
      "text/plain": [
       "matrix([[ 1,  1,  1,  1],\n",
       "        [ 8,  4,  2,  1],\n",
       "        [27,  9,  3,  1],\n",
       "        [64, 16,  4,  1]])"
      ]
     },
     "execution_count": 6,
     "metadata": {},
     "output_type": "execute_result"
    }
   ],
   "source": [
    "ATV(x,4,False)"
   ]
  },
  {
   "cell_type": "code",
   "execution_count": 7,
   "metadata": {},
   "outputs": [],
   "source": [
    "# 2. To find the moving average"
   ]
  },
  {
   "cell_type": "code",
   "execution_count": 8,
   "metadata": {},
   "outputs": [],
   "source": [
    "def moving_average(a, k) :\n",
    "    x=[]\n",
    "    for i in range (len(a)-k+1):\n",
    "        s=np.sum(a[i:k+i])/k\n",
    "        x.append(s)\n",
    "    \n",
    "    print(f\"Moving average sequence has {len(x)} values\")\n",
    "    for i in range(0,len(x)):\n",
    "        print(f\"y{i+1}={x[i]}\")"
   ]
  },
  {
   "cell_type": "code",
   "execution_count": 9,
   "metadata": {},
   "outputs": [],
   "source": [
    "ar=np.array([3, 5, 7, 2, 8, 10, 11, 65, 72, 81, 99, 100, 150])"
   ]
  },
  {
   "cell_type": "code",
   "execution_count": 10,
   "metadata": {},
   "outputs": [
    {
     "name": "stdout",
     "output_type": "stream",
     "text": [
      "Moving average sequence has 11 values\n",
      "y1=5.0\n",
      "y2=4.666666666666667\n",
      "y3=5.666666666666667\n",
      "y4=6.666666666666667\n",
      "y5=9.666666666666666\n",
      "y6=28.666666666666668\n",
      "y7=49.333333333333336\n",
      "y8=72.66666666666667\n",
      "y9=84.0\n",
      "y10=93.33333333333333\n",
      "y11=116.33333333333333\n"
     ]
    }
   ],
   "source": [
    "moving_average(ar,3)"
   ]
  },
  {
   "cell_type": "code",
   "execution_count": null,
   "metadata": {},
   "outputs": [],
   "source": []
  }
 ],
 "metadata": {
  "kernelspec": {
   "display_name": "Python 3",
   "language": "python",
   "name": "python3"
  },
  "language_info": {
   "codemirror_mode": {
    "name": "ipython",
    "version": 3
   },
   "file_extension": ".py",
   "mimetype": "text/x-python",
   "name": "python",
   "nbconvert_exporter": "python",
   "pygments_lexer": "ipython3",
   "version": "3.7.4"
  }
 },
 "nbformat": 4,
 "nbformat_minor": 2
}
